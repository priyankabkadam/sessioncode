{
 "cells": [
  {
   "cell_type": "code",
   "execution_count": null,
   "metadata": {},
   "outputs": [],
   "source": [
    "# 1.Write a program to print duplicate characters from String.\n",
    "#Input : \"Programming\"\n",
    "#Output: \"r\", \"m\", \"g\""
   ]
  },
  {
   "cell_type": "code",
   "execution_count": null,
   "metadata": {},
   "outputs": [],
   "source": [
    "str=\"Programming\"\n",
    "for i in str:\n",
    "    "
   ]
  },
  {
   "cell_type": "code",
   "execution_count": null,
   "metadata": {},
   "outputs": [],
   "source": [
    "#2.Write a program to check if two given strings are an anagram of each other or not.\n",
    "#Anagram Strings: Two strings are anagrams if they are written using the exact letters,\n",
    "#                  ignoring space, punctuation, and capitalization.\n",
    "#For example : Input: \"Army\" and \"Mary\" Output \"Strings are anagrams of each other\""
   ]
  },
  {
   "cell_type": "code",
   "execution_count": null,
   "metadata": {},
   "outputs": [],
   "source": []
  },
  {
   "cell_type": "code",
   "execution_count": null,
   "metadata": {},
   "outputs": [],
   "source": [
    "#3.Given 3 strings: first, second, and third. \n",
    "#Third String is said to be a shuffle of first and second if it can be formed by interleaving the characters of \n",
    "#first and second String in a way that maintains the left to right ordering of the characters from each string.\n",
    "#For example, given first = \"abc\" and second = \"def\", third = \"dabecf\" is a valid shuffle since it \n",
    "#preserves the character ordering of the two strings.\n",
    "#Given these 3 strings write a program that detects whether the third String is a valid shuffle of first and second String."
   ]
  },
  {
   "cell_type": "code",
   "execution_count": null,
   "metadata": {},
   "outputs": [],
   "source": []
  },
  {
   "cell_type": "code",
   "execution_count": null,
   "metadata": {},
   "outputs": [],
   "source": [
    "# 4.Write a program to implement an algorithm which will accept a string of characters \n",
    "# and should find the highest occurrence of the character and display it.\n",
    "# For example, if the input is \"aaaaaaaabbbcddddeeee\" it should return \"a\"."
   ]
  },
  {
   "cell_type": "code",
   "execution_count": null,
   "metadata": {},
   "outputs": [],
   "source": []
  },
  {
   "cell_type": "code",
   "execution_count": null,
   "metadata": {},
   "outputs": [],
   "source": [
    "# 5.In a given string, if adjacent characters are same remove those characters from the string \n",
    "#and generate the reduced string\n",
    "# For example : aaabccddd => abccddd => abddd => abd"
   ]
  },
  {
   "cell_type": "code",
   "execution_count": null,
   "metadata": {},
   "outputs": [],
   "source": []
  },
  {
   "cell_type": "code",
   "execution_count": null,
   "metadata": {},
   "outputs": [],
   "source": [
    "# 6.Caesar's cipher shifts each letter by a number of letters. If the shift takes you past the end of the alphabet, \n",
    "# just rotate back to the front of the alphabet. In the case of rotation by 3, w, x, y, and z would map to z, a, b and c.\n",
    "# For example, if the string is: \"welcome\" and the shift is 4 the output will be \"aipgtqi\""
   ]
  },
  {
   "cell_type": "code",
   "execution_count": null,
   "metadata": {},
   "outputs": [],
   "source": []
  },
  {
   "cell_type": "code",
   "execution_count": null,
   "metadata": {},
   "outputs": [],
   "source": [
    "# 7.Write a program to find all pairs in a list of Integers Whose sum is equal to a given Number.\n",
    "# For example nums = [1,2,3,4,5] sum = 7 \n",
    "# expected output is ans = [(3,4),(2,5),(4,3),(5,2)]"
   ]
  },
  {
   "cell_type": "code",
   "execution_count": null,
   "metadata": {},
   "outputs": [],
   "source": []
  },
  {
   "cell_type": "code",
   "execution_count": null,
   "metadata": {},
   "outputs": [],
   "source": [
    "# 8.Find all sublists with a sum equal to zero from a given list.\n",
    "# For example: input [4,-3,-2,-1,1]\n",
    "# expected output [(4,-3,-1),(3,-2,-1),(-1,1),(4,-3,-2,1)]"
   ]
  },
  {
   "cell_type": "code",
   "execution_count": null,
   "metadata": {},
   "outputs": [],
   "source": []
  },
  {
   "cell_type": "code",
   "execution_count": null,
   "metadata": {},
   "outputs": [],
   "source": [
    "# 9.Given a list of N integers. The task is to eliminate the minimum number of elements such that \n",
    "# in the resulting list the sum of any two adjacent values is even.\n",
    "# numbers = [1, 3, 5, 4, 2]\n",
    "# output = [1, 3, 5] Total elements removed 2"
   ]
  },
  {
   "cell_type": "code",
   "execution_count": null,
   "metadata": {},
   "outputs": [],
   "source": []
  }
 ],
 "metadata": {
  "kernelspec": {
   "display_name": "Python 3",
   "language": "python",
   "name": "python3"
  },
  "language_info": {
   "codemirror_mode": {
    "name": "ipython",
    "version": 3
   },
   "file_extension": ".py",
   "mimetype": "text/x-python",
   "name": "python",
   "nbconvert_exporter": "python",
   "pygments_lexer": "ipython3",
   "version": "3.7.2"
  }
 },
 "nbformat": 4,
 "nbformat_minor": 2
}
