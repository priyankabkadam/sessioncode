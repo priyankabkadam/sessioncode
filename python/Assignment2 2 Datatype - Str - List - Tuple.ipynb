{
 "cells": [
  {
   "cell_type": "code",
   "execution_count": null,
   "metadata": {},
   "outputs": [],
   "source": [
    "# 1.Write a program to print duplicate characters from String.\n",
    "#Input : \"Programming\"\n",
    "#Output: \"r\", \"m\", \"g\""
   ]
  },
  {
   "cell_type": "code",
   "execution_count": 29,
   "metadata": {},
   "outputs": [
    {
     "name": "stdout",
     "output_type": "stream",
     "text": [
      "Duplicate characters from given string := r\n",
      "Duplicate characters from given string := g\n",
      "Duplicate characters from given string := m\n"
     ]
    }
   ],
   "source": [
    "string=\"Programming\"\n",
    "for index,value in enumerate(string):\n",
    "    for dupIndex,dupValue in enumerate(string[index+1:]):\n",
    "        if value==dupValue:\n",
    "            print(\"Duplicate characters from given string :=\",dupValue)\n",
    "            "
   ]
  },
  {
   "cell_type": "code",
   "execution_count": 43,
   "metadata": {},
   "outputs": [
    {
     "name": "stdout",
     "output_type": "stream",
     "text": [
      "Duplicate characters in a given string: \n",
      "r\n",
      "g\n",
      "m\n"
     ]
    }
   ],
   "source": [
    "string = \"programming\" \n",
    "   \n",
    "print(\"Duplicate characters in a given string: \");  \n",
    " \n",
    "for value in range(0, len(string)):  \n",
    "    count = 1;\n",
    "    for dupValue in range(value+1, len(string)):  \n",
    "        if(string[value] == string[dupValue]):  \n",
    "            count = count + 1  \n",
    "    if(count > 1):  \n",
    "        print(string[value])  \n",
    "        "
   ]
  },
  {
   "cell_type": "code",
   "execution_count": null,
   "metadata": {},
   "outputs": [],
   "source": [
    "#2.Write a program to check if two given strings are an anagram of each other or not.\n",
    "#Anagram Strings: Two strings are anagrams if they are written using the exact letters,\n",
    "#                  ignoring space, punctuation, and capitalization.\n",
    "#For example : Input: \"Army\" and \"Mary\" Output \"Strings are anagrams of each other\""
   ]
  },
  {
   "cell_type": "code",
   "execution_count": 84,
   "metadata": {},
   "outputs": [
    {
     "name": "stdout",
     "output_type": "stream",
     "text": [
      "the string1= army the string2= mary are anagram\n"
     ]
    }
   ],
   "source": [
    "string1=\"Army\"\n",
    "string2=\"Mary\"\n",
    "string1=string1.lower()\n",
    "string2=string2.lower()\n",
    "if len(string1)==len(string2):\n",
    "    if sorted(string1)==sorted(string2):\n",
    "        print(\"the string1=\",string1,\"the string2=\",string2,\"are anagram\")\n",
    "    else:\n",
    "        print(\"the strings are not anagram\")\n",
    "else:\n",
    "    print(\"The length of both string is different so not anagram\")"
   ]
  },
  {
   "cell_type": "code",
   "execution_count": null,
   "metadata": {},
   "outputs": [],
   "source": [
    "#3.Given 3 strings: first, second, and third. \n",
    "#Third String is said to be a shuffle of first and second if it can be formed by interleaving the characters of \n",
    "#first and second String in a way that maintains the left to right ordering of the characters from each string.\n",
    "#For example, given first = \"abc\" and second = \"def\", third = \"dabecf\" is a valid shuffle since it \n",
    "#preserves the character ordering of the two strings.\n",
    "#Given these 3 strings write a program that detects whether the third String is a valid shuffle of first and second String."
   ]
  },
  {
   "cell_type": "code",
   "execution_count": 59,
   "metadata": {},
   "outputs": [
    {
     "name": "stdout",
     "output_type": "stream",
     "text": [
      "third string is vallid shuffle\n"
     ]
    }
   ],
   "source": [
    "str1=\"a\"\n",
    "str2=\"d\"\n",
    "str3=\"da\"\n",
    "if len(str1+str2)==len(str3):\n",
    "    if((str1[0] == str3[0]) & (str2[0]==str3[1])) | ((str2[0]==str3[0]) & (str1[0]==str3[1])):\n",
    "        print(\"third string is vallid shuffle\")\n",
    "    else:\n",
    "        print(\"not valid shuffle\")\n",
    "else:\n",
    "    print(\"not valid shuffle\")"
   ]
  },
  {
   "cell_type": "code",
   "execution_count": 74,
   "metadata": {},
   "outputs": [
    {
     "name": "stdout",
     "output_type": "stream",
     "text": [
      "not valid shuffel\n"
     ]
    }
   ],
   "source": [
    "str1=\"abc\"\n",
    "str2=\"def\"\n",
    "str3=\"defabc\"\n",
    "l1=len(str1)\n",
    "l2=len(str2)\n",
    "l3=len(str3)\n",
    "result=True\n",
    "minLen=l1\n",
    "if l1>l2:\n",
    "    minLen=l2\n",
    "if (l1+l2)!=l3:\n",
    "    print (\"Length mis match. Hence invalid\")\n",
    "    result=False\n",
    "    \n",
    "else:\n",
    "    for i in range(0,minLen):\n",
    "        if((str1[i] == str3[2*i]) & (str2[i]==str3[2*i+1])) | ((str2[i]==str3[2*i]) & (str1[i]==str3[2*i+1])):\n",
    "            result=True\n",
    "        else:\n",
    "            print(\"not valid shuffel\")\n",
    "            result=False\n",
    "            break\n",
    "if bool(result):\n",
    "    print(\"third string is vallid shuffle\")"
   ]
  },
  {
   "cell_type": "code",
   "execution_count": 114,
   "metadata": {},
   "outputs": [
    {
     "name": "stdout",
     "output_type": "stream",
     "text": [
      "0 0 0\n",
      "1 0 1\n",
      "2 1 1\n",
      "3 2 1\n",
      "4 2 2\n",
      "5 3 2\n",
      "valid shuffle\n"
     ]
    }
   ],
   "source": [
    "### 1 Interate over third string => you will get one char in every iteration\n",
    "# 2 check if each that char is present in string 1 or is it present in string 2\n",
    "# 3 .Here the char can not be repeated so if char present in string 1 move the \n",
    "# char pointer for string 1 by one index else move the pointer of second index.  \n",
    "\n",
    "str1=\"abc\"\n",
    "str2=\"def\"\n",
    "str3=\"dabecf\"\n",
    "result=True\n",
    "j=0\n",
    "k=0\n",
    "if (len(str1)+len(str2))!=len(str3):\n",
    "    print (\"Length mis match. Hence invalid\")\n",
    "else:\n",
    "    for i,value in enumerate(str3):\n",
    "        print(i,j,k)\n",
    "        if  j<len(str1) and str3[i]==str1[j]:\n",
    "            j=j+1\n",
    "        elif  k< len(str2) and str3[i]==str2[k]:\n",
    "            k=k+1\n",
    "        else:\n",
    "            #print(i,j,k)\n",
    "            result=False\n",
    "            break\n",
    "    if bool(result):\n",
    "        print(\"valid shuffle\")\n",
    "    else:\n",
    "        print(\"not vallid shuffal\")\n",
    "            \n",
    "        "
   ]
  },
  {
   "cell_type": "code",
   "execution_count": null,
   "metadata": {},
   "outputs": [],
   "source": [
    "# 4.Write a program to implement an algorithm which will accept a string of characters \n",
    "# and should find the highest occurrence of the character and display it.\n",
    "# For example, if the input is \"aaaaaaaabbbcddddeeee\" it should return \"a\"."
   ]
  },
  {
   "cell_type": "code",
   "execution_count": 145,
   "metadata": {},
   "outputs": [
    {
     "name": "stdout",
     "output_type": "stream",
     "text": [
      "max occured character= a\n"
     ]
    }
   ],
   "source": [
    "string=\"aaaaaaaabbbcddddeeeee\"\n",
    "max = 0\n",
    "loc=0\n",
    "for i in string:\n",
    "   # print(i,string.count(i))\n",
    "    if string.count(i) > max:\n",
    "        loc=i\n",
    "        \n",
    "        max = string.count(i)\n",
    "print(\"max occured character=\",loc)\n"
   ]
  },
  {
   "cell_type": "code",
   "execution_count": 2,
   "metadata": {},
   "outputs": [
    {
     "name": "stdout",
     "output_type": "stream",
     "text": [
      "a\n"
     ]
    }
   ],
   "source": [
    "s=\"aaaaaaaabbbcddddeeeee\"\n",
    "l=[]\n",
    "max=0\n",
    "maxchar=\" \"\n",
    "for value in s:\n",
    "    if value not in l and s.count(value)>max:\n",
    "        max=s.count(value)\n",
    "        maxchar=value\n",
    "        l.append(value)\n",
    "print(maxchar)"
   ]
  },
  {
   "cell_type": "code",
   "execution_count": null,
   "metadata": {},
   "outputs": [],
   "source": [
    "# 5.In a given string, if adjacent characters are same remove those characters from the string \n",
    "#and generate the reduced string\n",
    "# For example : aaabccddd => abccddd => abddd => abd"
   ]
  },
  {
   "cell_type": "code",
   "execution_count": 82,
   "metadata": {},
   "outputs": [
    {
     "name": "stdout",
     "output_type": "stream",
     "text": [
      "a\n",
      "b\n",
      "c\n"
     ]
    }
   ],
   "source": [
    "s=\"aaabccddd\"\n",
    "s=s.lower()\n",
    "#print(s)\n",
    "for i in range(0,len(s)-1):\n",
    "    #print(i)        ### here for i=i+,2 i value can't be increamenting by 2.. what is the reason????\n",
    "    if s[i]==s[i+1]:\n",
    "        i=i+2           \n",
    "        \n",
    "    else:\n",
    "        print(s[i])\n",
    "\n",
    "        i=i+2"
   ]
  },
  {
   "cell_type": "code",
   "execution_count": 77,
   "metadata": {},
   "outputs": [
    {
     "name": "stdout",
     "output_type": "stream",
     "text": [
      "['a', 'b', 'd']\n"
     ]
    }
   ],
   "source": [
    "s=\"aaabccddd\"\n",
    "s=s.lower()\n",
    "output=[]\n",
    "index=0\n",
    "while index<=len(s)-1:\n",
    "    if len(s)%2!=0 and index==len(s)-1:\n",
    "        output.append(s[len(s)-1])\n",
    "        index=index+1\n",
    "    elif s[index]==s[index+1]:\n",
    "        index=index+2\n",
    "    else:\n",
    "        output.append(s[index])\n",
    "        output.append(s[index+1])\n",
    "        index=index+2\n",
    "print(output)"
   ]
  },
  {
   "cell_type": "code",
   "execution_count": null,
   "metadata": {},
   "outputs": [],
   "source": [
    "# 6.Caesar's cipher shifts each letter by a number of letters. If the shift takes you past the end of the alphabet, \n",
    "# just rotate back to the front of the alphabet. In the case of rotation by 3, w, x, y, and z would map to z, a, b and c.\n",
    "# For example, if the string is: \"welcome\" and the shift is 4 the output will be \"aipgtqi\""
   ]
  },
  {
   "cell_type": "code",
   "execution_count": 26,
   "metadata": {},
   "outputs": [
    {
     "name": "stdout",
     "output_type": "stream",
     "text": [
      "aipgsqi\n",
      "the Caesar cipher string of  welcome is= aipgsqi\n"
     ]
    }
   ],
   "source": [
    "string=\"welcome\"\n",
    "string=string.lower()\n",
    "shift=4\n",
    "output=[]\n",
    "for value in string:\n",
    "    asciiVal=ord(value)\n",
    "    shiftVal=asciiVal+shift\n",
    "#print (ord(\"z\"))\n",
    "    if shiftVal>122:\n",
    "        output.append(chr(shiftVal-26))\n",
    "    else:\n",
    "        output.append(chr(shiftVal))\n",
    "caesaeCipher=(\"\".join(output))\n",
    "print(\"the Caesar cipher string of \", string ,\"is=\", caesaeCipher)\n",
    "    "
   ]
  },
  {
   "cell_type": "code",
   "execution_count": null,
   "metadata": {},
   "outputs": [],
   "source": []
  },
  {
   "cell_type": "code",
   "execution_count": null,
   "metadata": {},
   "outputs": [],
   "source": [
    "# 7.Write a program to find all pairs in a list of Integers Whose sum is equal to a given Number.\n",
    "# For example nums = [1,2,3,4,5] sum = 7 \n",
    "# expected output is ans = [(3,4),(2,5),(4,3),(5,2)]"
   ]
  },
  {
   "cell_type": "code",
   "execution_count": 15,
   "metadata": {},
   "outputs": [
    {
     "name": "stdout",
     "output_type": "stream",
     "text": [
      "[(2, 5), (3, 4), (4, 3), (5, 2)]\n"
     ]
    }
   ],
   "source": [
    "nums=[1,2,3,4,5]\n",
    "expSum=7\n",
    "output=[]\n",
    "for value in nums:\n",
    "    if(expSum - value) in nums:\n",
    "        output.append((value,(expSum-value)))\n",
    "print(output)"
   ]
  },
  {
   "cell_type": "code",
   "execution_count": null,
   "metadata": {},
   "outputs": [],
   "source": [
    "# 8.Find all sublists with a sum equal to zero from a given list.\n",
    "# For example: input [4,-3,-2,-1,1]\n",
    "# expected output [(4,-3,-1),(3,-2,-1),(-1,1),(4,-3,-2,1)]"
   ]
  },
  {
   "cell_type": "code",
   "execution_count": 54,
   "metadata": {},
   "outputs": [],
   "source": [
    "# l= [4,-3,-2,-1,1]\n",
    "# output=[]\n",
    "# for index,value in enumerate(l):\n",
    "#      count=1\n",
    "#      while count<=len(l):\n",
    "        \n",
    "    \n",
    "  #### still confusion with this so will submit it later####  "
   ]
  },
  {
   "cell_type": "code",
   "execution_count": null,
   "metadata": {},
   "outputs": [],
   "source": [
    "# 9.Given a list of N integers. The task is to eliminate the minimum number of elements such that \n",
    "# in the resulting list the sum of any two adjacent values is even.\n",
    "# numbers = [1, 3, 5, 4, 2]\n",
    "# output = [1, 3, 5] Total elements removed 2\n",
    "#both no even or both odd\n",
    "#find index of even no\n",
    "#even=[3,4]\n",
    "#odd=[0,1,2]"
   ]
  },
  {
   "cell_type": "code",
   "execution_count": 32,
   "metadata": {},
   "outputs": [
    {
     "name": "stdout",
     "output_type": "stream",
     "text": [
      "[3, 4] 2\n"
     ]
    }
   ],
   "source": [
    "numbers = [1, 3, 5, 4, 2]\n",
    "evenNum=[]\n",
    "oddNum=[]\n",
    "for index,value in enumerate(numbers):\n",
    "    if value%2==0:\n",
    "        evenNum.append(index)\n",
    "    else:\n",
    "        oddNum.append(index)\n",
    "if len(evenNum)<len(oddNum):\n",
    "    elementremove=evenNum\n",
    "else:\n",
    "    elementremove=oddNum\n",
    "print(elementremove,len(elementremove))\n"
   ]
  },
  {
   "cell_type": "code",
   "execution_count": null,
   "metadata": {},
   "outputs": [],
   "source": [
    "# 10.Write a program, which will find all such numbers between 1000 and 3000 (both included) \n",
    "# such that each digit of the number is an even number. \n",
    "# Add all such elements into the list and print the list."
   ]
  },
  {
   "cell_type": "code",
   "execution_count": 48,
   "metadata": {},
   "outputs": [
    {
     "name": "stdout",
     "output_type": "stream",
     "text": [
      "['2000', '2002', '2004', '2006', '2008', '2020', '2022', '2024', '2026', '2028', '2040', '2042', '2044', '2046', '2048', '2060', '2062', '2064', '2066', '2068', '2080', '2082', '2084', '2086', '2088', '2200', '2202', '2204', '2206', '2208', '2220', '2222', '2224', '2226', '2228', '2240', '2242', '2244', '2246', '2248', '2260', '2262', '2264', '2266', '2268', '2280', '2282', '2284', '2286', '2288', '2400', '2402', '2404', '2406', '2408', '2420', '2422', '2424', '2426', '2428', '2440', '2442', '2444', '2446', '2448', '2460', '2462', '2464', '2466', '2468', '2480', '2482', '2484', '2486', '2488', '2600', '2602', '2604', '2606', '2608', '2620', '2622', '2624', '2626', '2628', '2640', '2642', '2644', '2646', '2648', '2660', '2662', '2664', '2666', '2668', '2680', '2682', '2684', '2686', '2688', '2800', '2802', '2804', '2806', '2808', '2820', '2822', '2824', '2826', '2828', '2840', '2842', '2844', '2846', '2848', '2860', '2862', '2864', '2866', '2868', '2880', '2882', '2884', '2886', '2888']\n"
     ]
    }
   ],
   "source": [
    "items = []\n",
    "for i in range(1000, 3001):\n",
    "    s = str(i)\n",
    "    #print(str(i))\n",
    "    if (int(s[0])%2==0) and (int(s[1])%2==0) and (int(s[2])%2==0) and (int(s[3])%2==0):\n",
    "        items.append(s)\n",
    "#print( \",\".join(items))\n",
    "print(items)"
   ]
  }
 ],
 "metadata": {
  "kernelspec": {
   "display_name": "Python 3",
   "language": "python",
   "name": "python3"
  },
  "language_info": {
   "codemirror_mode": {
    "name": "ipython",
    "version": 3
   },
   "file_extension": ".py",
   "mimetype": "text/x-python",
   "name": "python",
   "nbconvert_exporter": "python",
   "pygments_lexer": "ipython3",
   "version": "3.7.2"
  }
 },
 "nbformat": 4,
 "nbformat_minor": 2
}
