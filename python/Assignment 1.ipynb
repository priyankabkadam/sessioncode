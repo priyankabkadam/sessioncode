{
 "cells": [
  {
   "cell_type": "code",
   "execution_count": null,
   "metadata": {},
   "outputs": [],
   "source": [
    "# 1.Write a program to check if a given year is a leap year or not. \n",
    "#Leap year: a year is said to be a leap year, if the year is exactly divisible by 4 but and not divisible by 100"
   ]
  },
  {
   "cell_type": "code",
   "execution_count": 13,
   "metadata": {},
   "outputs": [
    {
     "name": "stdout",
     "output_type": "stream",
     "text": [
      "2004  is leap year\n"
     ]
    }
   ],
   "source": [
    "year=2004\n",
    "\n",
    "if(year%4==0) & (year%100 !=0):\n",
    "    print(year,\" is leap year\")\n",
    "else:\n",
    "    print(year,\"not a leap year\")"
   ]
  },
  {
   "cell_type": "code",
   "execution_count": null,
   "metadata": {},
   "outputs": [],
   "source": [
    "# 2.Write a program to check whether a triangle is valid or not if angles are given. \n",
    "#Valid Triangle: Sum of all the angles should be 180. All the angles should be greater than zero"
   ]
  },
  {
   "cell_type": "code",
   "execution_count": 7,
   "metadata": {},
   "outputs": [
    {
     "name": "stdout",
     "output_type": "stream",
     "text": [
      "Given triangle is not valid besause Sum of all the angles is not 180\n"
     ]
    }
   ],
   "source": [
    "angle1=30\n",
    "angle2=50\n",
    "angle3=90\n",
    "sum =angle1+angle2+angle3\n",
    "if(angle1>0) &(angle2>0) & (angle3>0):\n",
    "    if(sum==180):\n",
    "        print(\"Given triangle is valid\")\n",
    "    else:\n",
    "        print(\"Given triangle is not valid besause Sum of all the angles is not 180\")\n",
    "else:\n",
    "    print(\"Given triangle is not valid because All the angles should be greater than zero\")"
   ]
  },
  {
   "cell_type": "code",
   "execution_count": null,
   "metadata": {},
   "outputs": [],
   "source": []
  },
  {
   "cell_type": "code",
   "execution_count": null,
   "metadata": {},
   "outputs": [],
   "source": [
    "#3.Write a program to input electricity unit charge and calculate the total electricity bill according to the given conditions:\n",
    "# For the first 50 units Rs. 0.50/unit\n",
    "# For the next 100 units Rs. 0.75/unit\n",
    "# For the next 100 units Rs. 1.20/unit\n",
    "# For unit above 250 Rs. 1.50/unit\n",
    "#Also, an additional surcharge of 20% should be added to the bill."
   ]
  },
  {
   "cell_type": "code",
   "execution_count": null,
   "metadata": {},
   "outputs": [],
   "source": []
  },
  {
   "cell_type": "code",
   "execution_count": null,
   "metadata": {},
   "outputs": [],
   "source": [
    "#4.Given 2 numbers, a for the purchase amount in rupees, and b for the quality of service(1-5) received, \n",
    "#Calculate the tip according to the following table\n",
    "\n",
    "#Quality\tTip Percent\n",
    "#1\t5%\n",
    "#2\t10%\n",
    "#3\t15%\n",
    "#4\t20%\n",
    "#5\t25%"
   ]
  },
  {
   "cell_type": "code",
   "execution_count": null,
   "metadata": {},
   "outputs": [],
   "source": []
  },
  {
   "cell_type": "code",
   "execution_count": null,
   "metadata": {},
   "outputs": [],
   "source": [
    "#5.Write a program to count the total number of notes in a given amount. Valid notes:10, 20, 50, 100, 500, 2000 \n",
    "#eg : amount 2510, expected output is 2000=1,500=1,10=1"
   ]
  },
  {
   "cell_type": "code",
   "execution_count": null,
   "metadata": {},
   "outputs": [],
   "source": []
  },
  {
   "cell_type": "code",
   "execution_count": null,
   "metadata": {},
   "outputs": [],
   "source": [
    "#6.Print all the numbers from 1 to 50 but skip all multiples of 7. Also, skip any number that has a 7 in it, such as 27"
   ]
  },
  {
   "cell_type": "code",
   "execution_count": null,
   "metadata": {},
   "outputs": [],
   "source": []
  },
  {
   "cell_type": "code",
   "execution_count": null,
   "metadata": {},
   "outputs": [],
   "source": [
    "#7.Write a program to calculate the sum of the squares of all the numbers from 10 to 20 (both inclusive)"
   ]
  },
  {
   "cell_type": "code",
   "execution_count": null,
   "metadata": {},
   "outputs": [],
   "source": []
  },
  {
   "cell_type": "code",
   "execution_count": null,
   "metadata": {},
   "outputs": [],
   "source": [
    "#8.Write a program to print Collatz Conjecture sequence for number 50.\n",
    "#Collatz Conjecture: Take any number n. If n is even, divide it by 2, ifn is odd, multiply it by 3 and add 1. \n",
    "#Repeat the process indefinitely and you'll eventually reach 1."
   ]
  },
  {
   "cell_type": "code",
   "execution_count": null,
   "metadata": {},
   "outputs": [],
   "source": []
  },
  {
   "cell_type": "code",
   "execution_count": null,
   "metadata": {},
   "outputs": [],
   "source": [
    "#9.Given two numbers a and b calculate the Least Common Multiple (LCM). \n",
    "#LCM of a and b is the smallest number that is a multiple of both a and b."
   ]
  },
  {
   "cell_type": "code",
   "execution_count": null,
   "metadata": {},
   "outputs": [],
   "source": []
  },
  {
   "cell_type": "code",
   "execution_count": null,
   "metadata": {},
   "outputs": [],
   "source": [
    "#10.Write a program that prompts the user to input an integer and then outputs the number with the digits reversed. \n",
    "#For example, if the input is 12345, the output should be 54321"
   ]
  },
  {
   "cell_type": "code",
   "execution_count": null,
   "metadata": {},
   "outputs": [],
   "source": []
  }
 ],
 "metadata": {
  "kernelspec": {
   "display_name": "Python 3",
   "language": "python",
   "name": "python3"
  },
  "language_info": {
   "codemirror_mode": {
    "name": "ipython",
    "version": 3
   },
   "file_extension": ".py",
   "mimetype": "text/x-python",
   "name": "python",
   "nbconvert_exporter": "python",
   "pygments_lexer": "ipython3",
   "version": "3.7.2"
  }
 },
 "nbformat": 4,
 "nbformat_minor": 2
}
