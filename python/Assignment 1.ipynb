{
 "cells": [
  {
   "cell_type": "code",
   "execution_count": null,
   "metadata": {},
   "outputs": [],
   "source": [
    "# 1.Write a program to check if a given year is a leap year or not. \n",
    "#Leap year: a year is said to be a leap year, if the year is exactly divisible by 4 but and not divisible by 100"
   ]
  },
  {
   "cell_type": "code",
   "execution_count": 1,
   "metadata": {},
   "outputs": [
    {
     "name": "stdout",
     "output_type": "stream",
     "text": [
      "Enter the year2008\n",
      "2008  is leap year\n"
     ]
    }
   ],
   "source": [
    "year=int(input(\"Enter the year\"))\n",
    "\n",
    "if(year%4==0) & (year%100 !=0):\n",
    "    print(year,\" is leap year\")\n",
    "else:\n",
    "    print(year,\"not a leap year\")"
   ]
  },
  {
   "cell_type": "code",
   "execution_count": null,
   "metadata": {},
   "outputs": [],
   "source": [
    "# 2.Write a program to check whether a triangle is valid or not if angles are given. \n",
    "#Valid Triangle: Sum of all the angles should be 180. All the angles should be greater than zero"
   ]
  },
  {
   "cell_type": "code",
   "execution_count": 9,
   "metadata": {},
   "outputs": [
    {
     "name": "stdout",
     "output_type": "stream",
     "text": [
      "Angle1=67\n",
      "Angle2=78\n",
      "Angle3=5\n",
      "Given triangle is not valid besause Sum of all the angles is not 180\n"
     ]
    }
   ],
   "source": [
    "angle1=int(input(\"Angle1=\"))\n",
    "angle2=int(input(\"Angle2=\"))\n",
    "angle3=int(input(\"Angle3=\"))\n",
    "sum =angle1+angle2+angle3\n",
    "if(angle1>0) & (angle2>0) & (angle3>0):\n",
    "    if(sum==180):\n",
    "        print(\"Given triangle is valid\")\n",
    "    else:\n",
    "        print(\"Given triangle is not valid besause Sum of all the angles is not 180\")\n",
    "else:\n",
    "    print(\"Given triangle is not valid because All the angles should be greater than zero\")"
   ]
  },
  {
   "cell_type": "code",
   "execution_count": 8,
   "metadata": {},
   "outputs": [
    {
     "name": "stdout",
     "output_type": "stream",
     "text": [
      "Angle1=67\n",
      "Angle2=7\n",
      "Angle3=79\n",
      "Given triangle is not valid \n"
     ]
    }
   ],
   "source": [
    "angle1=int(input(\"Angle1=\"))\n",
    "angle2=int(input(\"Angle2=\"))\n",
    "angle3=int(input(\"Angle3=\"))\n",
    "sum =angle1+angle2+angle3\n",
    "if(angle1>0) & (angle2>0) & (angle3>0) & (sum==180):\n",
    "    print(\"Given triangle is valid\")\n",
    "else:\n",
    "    print(\"Given triangle is not valid \")\n"
   ]
  },
  {
   "cell_type": "code",
   "execution_count": null,
   "metadata": {},
   "outputs": [],
   "source": [
    "#3.Write a program to input electricity unit charge and calculate the total electricity bill according to the given conditions:\n",
    "# For the first 50 units Rs. 0.50/unit\n",
    "# For the next 100 units Rs. 0.75/unit\n",
    "# For the next 100 units Rs. 1.20/unit\n",
    "# For unit above 250 Rs. 1.50/unit\n",
    "#Also, an additional surcharge of 20% should be added to the bill."
   ]
  },
  {
   "cell_type": "code",
   "execution_count": 10,
   "metadata": {},
   "outputs": [
    {
     "name": "stdout",
     "output_type": "stream",
     "text": [
      "265.8\n"
     ]
    }
   ],
   "source": [
    "unit=251\n",
    "sum=0\n",
    "if unit in range(1,51):\n",
    "    sum=unit*0.5\n",
    "if unit in range(51,151):\n",
    "    unit=unit-50\n",
    "    sum=(unit*0.75)+50*.5\n",
    "if unit in range(151,251):\n",
    "    unit=unit-150\n",
    "    sum=(unit*1.20)+(50*.5)+(100*.75)\n",
    "if unit > 250:\n",
    "    unit=unit-250\n",
    "    sum=(50*.5)+(100*.75)+(100*1.2)+(unit*1.5)\n",
    "sum+=(sum*20/100)\n",
    "print(sum)"
   ]
  },
  {
   "cell_type": "code",
   "execution_count": 22,
   "metadata": {},
   "outputs": [
    {
     "name": "stdout",
     "output_type": "stream",
     "text": [
      "0\n"
     ]
    }
   ],
   "source": [
    "# def billing(unit,charge):\n",
    "#     return unit*charge\n",
    "\n",
    "# unit=50\n",
    "# sum=0\n",
    "# charge=\n",
    "# if unit<=50:\n",
    "#     sum=billing(unit,0.5)\n",
    "#     unit=unit-50\n",
    "    \n",
    "# sum=billing(unit,charge)\n",
    "# print(sum)"
   ]
  },
  {
   "cell_type": "code",
   "execution_count": null,
   "metadata": {},
   "outputs": [],
   "source": [
    "#4.Given 2 numbers, a for the purchase amount in rupees, and b for the quality of service(1-5) received, \n",
    "#Calculate the tip according to the following table\n",
    "\n",
    "#Quality\tTip Percent\n",
    "#1\t5%\n",
    "#2\t10%\n",
    "#3\t15%\n",
    "#4\t20%\n",
    "#5\t25%"
   ]
  },
  {
   "cell_type": "code",
   "execution_count": 10,
   "metadata": {},
   "outputs": [
    {
     "name": "stdout",
     "output_type": "stream",
     "text": [
      "Purchase amount in rupees=100\n",
      "Quality of service received=3\n",
      "Tip received in rupees= 15.0\n"
     ]
    }
   ],
   "source": [
    "######   1st approach   #######\n",
    "\n",
    "amount=int(input(\"Purchase amount in rupees=\"))\n",
    "quality=int(input(\"Quality of service received=\"))\n",
    "tip=0\n",
    "if quality in range(1,6): \n",
    "#if quality>0  & quality<6:\n",
    "#if quality<6 & quality>0: #why this statement is not working\n",
    "    #if quality==1:\n",
    "        tip=(amount*5*quality)/100\n",
    "else:\n",
    "    print(\"Invalid quality\")\n",
    "print(\"Tip received in rupees=\",tip)"
   ]
  },
  {
   "cell_type": "code",
   "execution_count": 8,
   "metadata": {},
   "outputs": [
    {
     "name": "stdout",
     "output_type": "stream",
     "text": [
      "Purchase amount in rupees=100\n",
      "Quality of service received=6\n",
      "Invalid quality\n",
      "Tip received in rupees= 0\n"
     ]
    }
   ],
   "source": [
    "       ######   2nd approach   #######\n",
    "\n",
    "amount=int(input(\"Purchase amount in rupees=\"))\n",
    "quality=int(input(\"Quality of service received=\"))\n",
    "tip=0\n",
    "tip_per=[5,10,15,20,25]\n",
    "if quality in range(1,6): \n",
    "        tip=(amount*(tip_per[quality-1]))/100\n",
    "else:\n",
    "    print(\"Invalid quality\")\n",
    "print(\"Tip received in rupees=\",tip)"
   ]
  },
  {
   "cell_type": "code",
   "execution_count": null,
   "metadata": {},
   "outputs": [],
   "source": [
    "#5.Write a program to count the total number of notes in a given amount. Valid notes:10, 20, 50, 100, 500, 2000 \n",
    "#eg : amount 2510, expected output is 2000=1,500=1,10=1"
   ]
  },
  {
   "cell_type": "code",
   "execution_count": null,
   "metadata": {},
   "outputs": [],
   "source": [
    "# amount=int(input(\"amount=\"))\n",
    "# if amount>=2000:\n",
    "#     rem1=amount%2000\n",
    "#     count2000=int(amount/2000)\n",
    "#     print(rem1,count2000)\n",
    "#     if rem1>=500:\n",
    "#         rem2=rem1%500\n",
    "#         count500=int(rem1/500)\n",
    "#     print(rem2,count500)\n",
    "#     if rem>=100:\n",
    "        \n",
    "# #rem2=int(rem1%500)\n",
    "# #count2=int(rem1%500)\n",
    "\n",
    "# #print(rem2,count2)"
   ]
  },
  {
   "cell_type": "code",
   "execution_count": 1,
   "metadata": {},
   "outputs": [
    {
     "name": "stdout",
     "output_type": "stream",
     "text": [
      "amount=2610\n",
      "1 610\n",
      "1 110\n",
      "1 10\n",
      "1 0\n"
     ]
    }
   ],
   "source": [
    "######   1st approach   #######\n",
    "\n",
    "\n",
    "amount=int(input(\"amount=\"))\n",
    "if amount>=2000:\n",
    "    count2000=int(amount/2000)\n",
    "    amount=amount%2000\n",
    "    print(count2000, amount)\n",
    "if amount in range(500,2000):\n",
    "    count500=int(amount/500)\n",
    "    amount=amount%500\n",
    "    print(count500, amount)\n",
    "if amount in  range(100,500):\n",
    "    count100=int(amount/100)\n",
    "    amount=amount%100\n",
    "    print(count100, amount)\n",
    "if amount in range(10,100):\n",
    "    count10=int(amount/10)\n",
    "    amount=amount%10\n",
    "    print(count10,amount)\n",
    "\n",
    "    "
   ]
  },
  {
   "cell_type": "code",
   "execution_count": 17,
   "metadata": {},
   "outputs": [
    {
     "name": "stdout",
     "output_type": "stream",
     "text": [
      "amount=2610\n",
      "number of 2000 note are = 1\n",
      "number of 500 note are = 1\n",
      "number of 100 note are = 1\n",
      "number of 10 note are = 1\n"
     ]
    }
   ],
   "source": [
    "######   2nd approach   #######\n",
    "\n",
    "def calculate_note(value, lowerlimit):\n",
    "   \n",
    "    if value >= lowerlimit:\n",
    "        countOfLowerlimit=int(amount/lowerlimit)\n",
    "        value=value%lowerlimit\n",
    "        print(\"number of\",lowerlimit, \"note are =\", countOfLowerlimit)\n",
    "        return value;\n",
    "    \n",
    "        \n",
    "    \n",
    "amount=int(input(\"amount=\"))\n",
    "amount=calculate_note(amount,2000)\n",
    "amount=calculate_note(amount,500)\n",
    "amount=calculate_note(amount,100)\n",
    "amount=calculate_note(amount,10)\n",
    "\n",
    "    "
   ]
  },
  {
   "cell_type": "code",
   "execution_count": null,
   "metadata": {},
   "outputs": [],
   "source": [
    "#6.Print all the numbers from 1 to 50 but skip all multiples of 7. Also, skip any number that has a 7 in it, such as 27"
   ]
  },
  {
   "cell_type": "code",
   "execution_count": 30,
   "metadata": {},
   "outputs": [
    {
     "name": "stdout",
     "output_type": "stream",
     "text": [
      "1\n",
      "2\n",
      "3\n",
      "4\n",
      "5\n",
      "6\n",
      "8\n",
      "9\n",
      "10\n",
      "11\n",
      "12\n",
      "13\n",
      "15\n",
      "16\n",
      "18\n",
      "19\n",
      "20\n",
      "22\n",
      "23\n",
      "24\n",
      "25\n",
      "26\n",
      "29\n",
      "30\n",
      "31\n",
      "32\n",
      "33\n",
      "34\n",
      "36\n",
      "38\n",
      "39\n",
      "40\n",
      "41\n",
      "43\n",
      "44\n",
      "45\n",
      "46\n",
      "48\n",
      "50\n"
     ]
    }
   ],
   "source": [
    "\n",
    "for numbers in range(1,51):\n",
    "    if numbers%7!=0 and numbers%10!=7:\n",
    "        print(numbers)"
   ]
  },
  {
   "cell_type": "code",
   "execution_count": null,
   "metadata": {},
   "outputs": [],
   "source": [
    "#7.Write a program to calculate the sum of the squares of all the numbers from 10 to 20 (both inclusive)"
   ]
  },
  {
   "cell_type": "code",
   "execution_count": 1,
   "metadata": {},
   "outputs": [
    {
     "name": "stdout",
     "output_type": "stream",
     "text": [
      "sum of all squares = 2585\n"
     ]
    }
   ],
   "source": [
    "sum=0\n",
    "for number in range(10,21):\n",
    "    sum+=number*number\n",
    "print(\"sum of all squares =\",sum)"
   ]
  },
  {
   "cell_type": "code",
   "execution_count": null,
   "metadata": {},
   "outputs": [],
   "source": [
    "#8.Write a program to print Collatz Conjecture sequence for number 50.\n",
    "#Collatz Conjecture: Take any number n. If n is even, divide it by 2, if n is odd, multiply it by 3 and add 1. \n",
    "#Repeat the process indefinitely and you'll eventually reach 1."
   ]
  },
  {
   "cell_type": "code",
   "execution_count": 44,
   "metadata": {},
   "outputs": [
    {
     "name": "stdout",
     "output_type": "stream",
     "text": [
      "enter the number=50\n",
      "50\n",
      "25\n",
      "76\n",
      "38\n",
      "19\n",
      "58\n",
      "29\n",
      "88\n",
      "44\n",
      "22\n",
      "11\n",
      "34\n",
      "17\n",
      "52\n",
      "26\n",
      "13\n",
      "40\n",
      "20\n",
      "10\n",
      "5\n",
      "16\n",
      "8\n",
      "4\n",
      "2\n",
      "1\n"
     ]
    }
   ],
   "source": [
    "def collatz(number):\n",
    "    while number != 1:\n",
    "        print(number)\n",
    "        if number % 2 == 0:\n",
    "            number = int(number / 2)\n",
    "        else:\n",
    "            number= int(3 * number + 1)\n",
    "    else:\n",
    "        print(1)\n",
    "\n",
    "number=int(input(\"enter the number=\"))\n",
    "collatz(number)\n"
   ]
  },
  {
   "cell_type": "code",
   "execution_count": null,
   "metadata": {},
   "outputs": [],
   "source": [
    "#9.Given two numbers a and b calculate the Least Common Multiple (LCM). \n",
    "#LCM of a and b is the smallest number that is a multiple of both a and b."
   ]
  },
  {
   "cell_type": "code",
   "execution_count": 3,
   "metadata": {},
   "outputs": [
    {
     "name": "stdout",
     "output_type": "stream",
     "text": [
      "Enter Number 1=2\n",
      "Enter Number 2=3\n",
      "6\n"
     ]
    }
   ],
   "source": [
    "###### 1st approach   ######\n",
    "\n",
    "a=int(input(\"Enter Number 1=\"))\n",
    "b=int(input(\"Enter Number 2=\"))\n",
    "if a<b:\n",
    "    least_no=a\n",
    "else:\n",
    "    least_no=b\n",
    "while(1):\n",
    "    if (least_no%a==0 and least_no%b==0):\n",
    "        print(least_no)\n",
    "        break\n",
    "    least_no+=1"
   ]
  },
  {
   "cell_type": "code",
   "execution_count": 9,
   "metadata": {},
   "outputs": [
    {
     "name": "stdout",
     "output_type": "stream",
     "text": [
      "Enter Number 1=2\n",
      "Enter Number 2=3\n",
      "LCM of 2 and 3 is= 6\n"
     ]
    }
   ],
   "source": [
    "###### 2nd approach  ########\n",
    "def lcm(x,y):\n",
    "    if x>y:\n",
    "        greater_no=x\n",
    "    else:\n",
    "        greater_no=y\n",
    "    while(1):\n",
    "        if(greater_no%x==0 and greater_no%y==0):\n",
    "            lcm=greater_no\n",
    "            break\n",
    "        greater_no+=1\n",
    "    return lcm\n",
    "\n",
    "a=int(input(\"Enter Number 1=\"))\n",
    "b=int(input(\"Enter Number 2=\"))\n",
    "print(\"LCM of\",a,\"and\",b,\"is=\",lcm(a,b))"
   ]
  },
  {
   "cell_type": "code",
   "execution_count": null,
   "metadata": {},
   "outputs": [],
   "source": [
    "#10.Write a program that prompts the user to input an integer and then outputs the number with the digits reversed. \n",
    "#For example, if the input is 12345, the output should be 54321"
   ]
  },
  {
   "cell_type": "code",
   "execution_count": 23,
   "metadata": {},
   "outputs": [
    {
     "name": "stdout",
     "output_type": "stream",
     "text": [
      "Enter the no=1234\n",
      "reverse no is= 4321\n"
     ]
    }
   ],
   "source": [
    "########### 1st approach  ############\n",
    "number=int(input(\"Enter the no=\"))\n",
    "reverse=0\n",
    "while(number>0):\n",
    "    digit=number%10\n",
    "    reverse=reverse*10+digit\n",
    "    number=number//10\n",
    "print(\"reverse no is=\",reverse)"
   ]
  },
  {
   "cell_type": "code",
   "execution_count": 29,
   "metadata": {},
   "outputs": [
    {
     "name": "stdout",
     "output_type": "stream",
     "text": [
      "Enter the number=1234\n",
      "4321\n"
     ]
    }
   ],
   "source": [
    "###########  2nd Approach   ###############\n",
    "number=input(\"Enter the number=\")\n",
    "print(number[::-1])"
   ]
  }
 ],
 "metadata": {
  "kernelspec": {
   "display_name": "Python 3",
   "language": "python",
   "name": "python3"
  },
  "language_info": {
   "codemirror_mode": {
    "name": "ipython",
    "version": 3
   },
   "file_extension": ".py",
   "mimetype": "text/x-python",
   "name": "python",
   "nbconvert_exporter": "python",
   "pygments_lexer": "ipython3",
   "version": "3.7.2"
  }
 },
 "nbformat": 4,
 "nbformat_minor": 2
}
