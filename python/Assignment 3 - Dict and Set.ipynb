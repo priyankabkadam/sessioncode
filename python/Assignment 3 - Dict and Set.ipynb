{
 "cells": [
  {
   "cell_type": "code",
   "execution_count": null,
   "metadata": {},
   "outputs": [],
   "source": [
    "# 1.Write a program to count the number of occurrences of a word in below sentenses.\n",
    "# Input : \"Python has traditionally checked the up-to-dateness of bytecode cache files by comparing the source metadata with \n",
    "# source metadata saved in the cache file header when it was generated. While effective, \n",
    "# this invalidation method has its drawbacks. When filesystem timestamps are too coarse, Python can miss source updates, leading to user confusion. Additionally, having a timestamp in the cache file is problematic for build reproducibility and content-based build systems.\"\n",
    "# Output : {\"Python\":2,\"metadata\":2,... }"
   ]
  },
  {
   "cell_type": "code",
   "execution_count": 55,
   "metadata": {},
   "outputs": [
    {
     "name": "stdout",
     "output_type": "stream",
     "text": [
      "{'Python': 2, 'has': 2, 'traditionally': 1, 'checked': 1, 'the': 4, 'up': 1, 'to': 2, 'dateness': 1, 'of': 1, 'bytecode': 1, 'cache': 3, 'files': 1, 'by': 1, 'comparing': 1, 'source': 3, 'metadata': 2, 'with': 1, 'saved': 1, 'in': 2, 'file': 2, 'header': 1, 'when': 1, 'it': 1, 'was': 1, 'generated': 1, '': 8, 'While': 1, 'effective': 1, 'this': 1, 'invalidation': 1, 'method': 1, 'its': 1, 'drawbacks': 1, 'When': 1, 'filesystem': 1, 'timestamps': 1, 'are': 1, 'too': 1, 'coarse': 1, 'can': 1, 'miss': 1, 'updates': 1, 'leading': 1, 'user': 1, 'confusion': 1, 'Additionally': 1, 'having': 1, 'a': 1, 'timestamp': 1, 'is': 1, 'problematic': 1, 'for': 1, 'build': 2, 'reproducibility': 1, 'and': 1, 'content': 1, 'based': 1, 'systems': 1}\n"
     ]
    }
   ],
   "source": [
    "#in case of removinf multiple deliminaters\n",
    "import re\n",
    "s= s= \"Python has traditionally checked the up-to-dateness of bytecode cache files by comparing the source metadata with source metadata saved in the cache file header when it was generated. While effective, this invalidation method has its drawbacks. When filesystem timestamps are too coarse, Python can miss source updates, leading to user confusion. Additionally, having a timestamp in the cache file is problematic for build reproducibility and content-based build systems.\"\n",
    "dict1={}\n",
    "words=re.split('\\-|\\.|\\ |,',s)\n",
    "# print(words)\n",
    "for word in words:\n",
    "    if word in dict1:\n",
    "        dict1[word]+=1\n",
    "    else:\n",
    "        dict1[word]=1\n",
    "print(dict1)"
   ]
  },
  {
   "cell_type": "code",
   "execution_count": null,
   "metadata": {},
   "outputs": [],
   "source": []
  },
  {
   "cell_type": "code",
   "execution_count": 39,
   "metadata": {},
   "outputs": [
    {
     "name": "stdout",
     "output_type": "stream",
     "text": [
      "{'Python': 2, 'has': 2, 'traditionally': 1, 'checked': 1, 'the': 4, 'uptodateness': 1, 'of': 1, 'bytecode': 1, 'cache': 3, 'files': 1, 'by': 1, 'comparing': 1, 'source': 3, 'metadata': 2, 'with': 1, 'saved': 1, 'in': 2, 'file': 2, 'header': 1, 'when': 1, 'it': 1, 'was': 1, 'generated.': 1, 'While': 1, 'effective,': 1, 'this': 1, 'invalidation': 1, 'method': 1, 'its': 1, 'drawbacks.': 1, 'When': 1, 'filesystem': 1, 'timestamps': 1, 'are': 1, 'too': 1, 'coarse,': 1, 'can': 1, 'miss': 1, 'updates,': 1, 'leading': 1, 'to': 1, 'user': 1, 'confusion.': 1, 'Additionally,': 1, 'having': 1, 'a': 1, 'timestamp': 1, 'is': 1, 'problematic': 1, 'for': 1, 'build': 2, 'reproducibility': 1, 'and': 1, 'contentbased': 1, 'systems.': 1}\n"
     ]
    }
   ],
   "source": [
    "def word_count(str):\n",
    "    dict1={}\n",
    "    \n",
    "    words = str.split( )\n",
    "    #print(words)\n",
    "    \n",
    "\n",
    "    for word in words:\n",
    "        if word in dict1:\n",
    "            dict1[word] += 1\n",
    "        else:\n",
    "            dict1[word] = 1\n",
    "\n",
    "    return dict1\n",
    "s= \"Python has traditionally checked the up-to-dateness of bytecode cache files by comparing the source metadata with source metadata saved in the cache file header when it was generated. While effective, this invalidation method has its drawbacks. When filesystem timestamps are too coarse, Python can miss source updates, leading to user confusion. Additionally, having a timestamp in the cache file is problematic for build reproducibility and content-based build systems.\"\n",
    "s1=''.join(s.split(\"-\"))\n",
    "print( word_count(s1))"
   ]
  },
  {
   "cell_type": "code",
   "execution_count": null,
   "metadata": {},
   "outputs": [],
   "source": [
    "# 2.Given a dictionary that associates the names of states with a list of the names of cities that appear in it,\n",
    "#write a program that creates a new dictionary that associates the name of a city with the list of states that it appears in.\n",
    "# As an example, if the first dictionary is\n",
    "# Input :\n",
    "# states = {'New Hampshire': ['Concord', 'Hanover'],\n",
    "# 'Massachusetts': ['Boston', 'Concord', 'Springfield'],\n",
    "\n",
    "# 'Illinois': ['Chicago', 'Springfield', 'Peoria']\n",
    "# }\n",
    "# Output:\n",
    "# cities = {'Hanover': ['New Hampshire'],\n",
    "# 'Chicago': ['Illinois'],'Boston': ['Massachusetts'], \n",
    "\n",
    "# 'Peoria': ['Illinois'],'Concord': ['New Hampshire','Massachusetts'],\n",
    "\n",
    "# 'Springfield': ['Massachusetts', 'Illinois']\n",
    "# }"
   ]
  },
  {
   "cell_type": "code",
   "execution_count": 45,
   "metadata": {},
   "outputs": [
    {
     "name": "stdout",
     "output_type": "stream",
     "text": [
      "{'Concord': ['New Hampshire', 'Massachusetts'], 'Hanover': ['New Hampshire'], 'Boston': ['Massachusetts'], 'Springfield': ['Massachusetts', 'Illinois'], 'Chicago': ['Illinois'], 'Peoria': ['Illinois']}\n"
     ]
    }
   ],
   "source": [
    "states={'New Hampshire': ['Concord', 'Hanover'],'Massachusetts': ['Boston', 'Concord', 'Springfield'],\n",
    "'Illinois': ['Chicago', 'Springfield', 'Peoria']}\n",
    "output={}\n",
    "for value in states:\n",
    "    #print(value)\n",
    "    for city in states[value]:\n",
    "         #print(city)\n",
    "        list1=[]\n",
    "        if city in output.keys():\n",
    "            list1=output[city]\n",
    "        list1.append(value)\n",
    "        output[city]=list1\n",
    "           \n",
    "print(output)\n"
   ]
  },
  {
   "cell_type": "code",
   "execution_count": 1,
   "metadata": {},
   "outputs": [
    {
     "name": "stdout",
     "output_type": "stream",
     "text": [
      "[1, 11, 21, 31, 41, 51, 61, 71, 81, 91]\n"
     ]
    }
   ],
   "source": [
    "\n",
    "l1=list(range(1,92,10))\n",
    "print(l1)"
   ]
  },
  {
   "cell_type": "code",
   "execution_count": null,
   "metadata": {},
   "outputs": [],
   "source": [
    "# 3.Given a list of test scores, where the maximum score is 100, write code that prints the number of scores that \n",
    "# are in the range 0-9, 10-19, 20-29, ... 80-89, 90-100. For example,\n",
    "# given the list of scores : [ 12, 90, 100, 52, 56, 76, 92, 83, 39, 77, 73, 70, 80 ]\n",
    "# The output should be :\n",
    "# {(0,9): 0, (10,19): 1, (20,29): 0, (30,39): 1, (40,49): 0, (50,59): 2, (60,69): 0, (70,79): 4, (80,89): 2, (90,100): 3}"
   ]
  },
  {
   "cell_type": "code",
   "execution_count": 13,
   "metadata": {},
   "outputs": [
    {
     "name": "stdout",
     "output_type": "stream",
     "text": [
      "[0, 1, 0, 1, 0, 2, 0, 4, 2, 3]\n"
     ]
    }
   ],
   "source": [
    "score=[ 12, 90, 100, 52, 56, 76, 92, 83, 39, 77, 73, 70, 80 ]\n",
    "l=[0]*10\n",
    "#print(l)\n",
    "for value in score:\n",
    "    rangeofval=value//10\n",
    "    #print(\"rangeofval\" ,rangeofval)\n",
    "    if rangeofval==10:\n",
    "        rangeofval-=1\n",
    "    l[rangeofval]+=1\n",
    "\n",
    "print(l)"
   ]
  },
  {
   "cell_type": "code",
   "execution_count": 42,
   "metadata": {},
   "outputs": [
    {
     "name": "stdout",
     "output_type": "stream",
     "text": [
      "{(0, 9): 0, (10, 19): 1, (20, 29): 0, (30, 39): 1, (40, 49): 0, (50, 59): 2, (60, 69): 0, (70, 79): 4, (80, 89): 2, (90, 100): 3}\n"
     ]
    }
   ],
   "source": [
    "score=[ 12, 90, 100, 52, 56, 76, 92, 83, 39, 77, 73, 70, 80 ]\n",
    "l=[0]*10\n",
    "d={}\n",
    "l1=range(0,91,10)\n",
    "l2=[]\n",
    "for x in range(9,90,10):\n",
    "    l2.append(x)\n",
    "l2.append(100)\n",
    "# print(\"l2\",l2)\n",
    "for value in score:\n",
    "    rangeofval=value//10\n",
    "    if rangeofval==10:\n",
    "        rangeofval-=1\n",
    "    l[rangeofval]+=1\n",
    "i=0\n",
    "for key in zip(l1,l2):\n",
    "    d.setdefault(key,l[i])\n",
    "    i+=1\n",
    "print(d)"
   ]
  },
  {
   "cell_type": "code",
   "execution_count": null,
   "metadata": {},
   "outputs": [],
   "source": [
    "# 4.Consider a data, where the name of the restaurant, the type of restaurant, and the ratings are provided. \n",
    "# Assume these values have already been read into a list of lists of the form below:\n",
    "# restaurants = [ [ Acme, Italian, 2, 4, 3, 5],[ Flintstone, Steak, 5, 2, 4, 3, 3, 4],[ Bella Troy, Italian, 1, 4, 5] ]\n",
    "# Write a program code that prints all Italian restaurants in the restaurants list that have no ratings of value 1 and at least one rating of value 5.\n",
    "# In the above example, Acme would be printed in the output, but Flintstone and Bella Troy would not. \n",
    "# Flintstone is not Italian and Bella Troy has a 1 rating."
   ]
  },
  {
   "cell_type": "code",
   "execution_count": 5,
   "metadata": {},
   "outputs": [
    {
     "name": "stdout",
     "output_type": "stream",
     "text": [
      "restaurent name= Acme\n"
     ]
    }
   ],
   "source": [
    "restaurants = [ ['Acme', 'Italian', 2, 4, 3, 5],['Flintstone','Steak', 5, 2, 4, 3, 3, 4],['BellaTroy', 'Italian', 1, 4, 5] ]\n",
    "count=0\n",
    "while count<len(restaurants):\n",
    "    if restaurants[count][1]=='Italian':\n",
    "        if (not(1 in restaurants[count][2:]) and (5 in restaurants[count][2:])):\n",
    "            print(\"restaurent name=\",restaurants[count][0])\n",
    "    count+=1"
   ]
  },
  {
   "cell_type": "code",
   "execution_count": null,
   "metadata": {},
   "outputs": [],
   "source": [
    "# 5.In the pre-smartphone era,each number key is assigned a subset of the alphabet {a,b,…,z}: 2 is assigned the subset {a,b,c}, \n",
    "# 3 is assigned {d,e,f}, 4 is assigned {g,h,i}, 5 is assigned {j,k,l}, 6 is assigned {m,n,o}, 7 is assigned {p,q,r,s}, \n",
    "# 8 is assigned {t,u,v} and 9 is assigned {w,x,y,z}.\n",
    "#Write a program to find the characters generated using key 9999335533 output should be \"zeke\""
   ]
  },
  {
   "cell_type": "code",
   "execution_count": 2,
   "metadata": {},
   "outputs": [
    {
     "name": "stdout",
     "output_type": "stream",
     "text": [
      "list of numbers ['2', '3', '4', '5', '6', '7', '8', '9']\n",
      "list of alphabets ['ABC', 'DEF', 'GHI', 'JKL', 'MNO', 'PQRS', 'TUV', 'WXYZ']\n",
      "prev no= 9\n",
      "alphabet WXYZ\n",
      "prev no= 3\n",
      "alphabet DEF\n",
      "prev no= 5\n",
      "alphabet JKL\n",
      "prev no= 3\n",
      "alphabet DEF\n",
      "characters press  Z E K E\n"
     ]
    }
   ],
   "source": [
    "numbs = {'2':'ABC', '3':'DEF', '4':'GHI', '5':'JKL', '6':'MNO', '7':'PQRS', '8':'TUV', '9':'WXYZ'}\n",
    "inputno=\"9999335533\"\n",
    "output=\" \"\n",
    "l1=[]\n",
    "l2=[]\n",
    "l3=[]\n",
    "\n",
    "for key in numbs:\n",
    "    l1.append(key)\n",
    "print(\"list of numbers\",l1)\n",
    "for key in numbs:\n",
    "    l2.append(numbs[key])\n",
    "print(\"list of alphabets\", l2)\n",
    "count=0\n",
    "prev_no=inputno[0]\n",
    "i=0\n",
    "for current_no in inputno:\n",
    "    i+=1\n",
    "    \n",
    "    if current_no==prev_no and i!=len(inputno):\n",
    "        count+=1\n",
    "        #print(\"incremented count\",count)\n",
    "        \n",
    "    else:\n",
    "        if i==len(inputno):\n",
    "            count+=1\n",
    "        print(\"prev no=\",prev_no)\n",
    "        no=ord(prev_no)-ord('0')-2\n",
    "        #print(\"no of prev no\",no)\n",
    "        temp=l2[no]\n",
    "        print(\"alphabet\",temp)\n",
    "        count=count-1\n",
    "        l3.append(temp[count])\n",
    "        prev_no=current_no\n",
    "        #print(\"Next no\",prev_no)\n",
    "        count=1\n",
    "output = ' '.join([str(elem) for elem in l3]) \n",
    "print(\"characters press \",output)"
   ]
  },
  {
   "cell_type": "code",
   "execution_count": null,
   "metadata": {},
   "outputs": [],
   "source": []
  },
  {
   "cell_type": "code",
   "execution_count": null,
   "metadata": {},
   "outputs": [],
   "source": [
    "# 6.Given a dictionary called clubs where each key is the name of a club (a string), and each value is \n",
    "# the set of id strings for the students in the club. \n",
    "# Write a segment of Python code that creates a set of all student ids that are in all the clubs in the dictionary"
   ]
  },
  {
   "cell_type": "code",
   "execution_count": null,
   "metadata": {},
   "outputs": [],
   "source": []
  },
  {
   "cell_type": "code",
   "execution_count": null,
   "metadata": {},
   "outputs": [],
   "source": [
    "# 7.You are given three sentences in three strings str1,str2,str3. Assume the sentences contain no punctuation \n",
    "# and have a single space between the words. Write a piece of code that prints the following:\n",
    "# (a) The set of words that appear in str1 but not in str2 and not in str3.\n",
    "# (b) The set of words that appear in all three sentences.\n",
    "# (c) The set of words that appear in exactly two of the three sentences\n",
    "# Remember, words are not case sensitive. For example, \n",
    "# if you are given the sentences: str1 = \"Hail dear old Rensselaer the college of our heart\" \n",
    "# str2 = \"For dear old Rensselaer we all must do our part\" str3 = \"True to old Rensselaer we will always strive to be\"\n",
    "# Output: \n",
    "# a) set(['heart', 'the', 'college', 'hail', 'of'])\n",
    "# b) set(['old', 'rensselaer'])\n",
    "# c) set(['dear', 'our', 'we'])"
   ]
  },
  {
   "cell_type": "code",
   "execution_count": 4,
   "metadata": {},
   "outputs": [
    {
     "name": "stdout",
     "output_type": "stream",
     "text": [
      "The set of words that appear in all three sentences {'old', 'Rensselaer'}\n",
      "The set of words that appear in str1 but not in str2 and not in str3 {'college', 'the', 'heart', 'Hail', 'of'}\n",
      "The set of words that appear in exactly two of the three sentences {'our', 'dear', 'we'}\n"
     ]
    }
   ],
   "source": [
    "str1 = \"Hail dear old Rensselaer the college of our heart\" \n",
    "str2 = \"For dear old Rensselaer we all must do our part\"\n",
    "str3 = \"True to old Rensselaer we will always strive to be\"\n",
    "l1=[]\n",
    "l1=str1.split(\" \")\n",
    "s1=set(l1)\n",
    "#print(\"set of string1=\",s1)\n",
    "l1=str2.split(\" \")\n",
    "s2=set(l1)\n",
    "##print(\"set of string2=\",s2)\n",
    "l1=str3.split(\" \")\n",
    "s3=set(l1)\n",
    "#print(\"set of string3=\",s3)\n",
    "output1=s1&s2&s3\n",
    "print(\"The set of words that appear in all three sentences\",output1)\n",
    "i=s2.union(s3)\n",
    "output2=s1.difference(i)\n",
    "print(\"The set of words that appear in str1 but not in str2 and not in str3\",output2)\n",
    "temp1=s1.intersection(s2)\n",
    "temp2=s2.intersection(s3)\n",
    "output3=temp1.symmetric_difference(temp2)\n",
    "print(\"The set of words that appear in exactly two of the three sentences\",output3)"
   ]
  }
 ],
 "metadata": {
  "kernelspec": {
   "display_name": "Python 3",
   "language": "python",
   "name": "python3"
  },
  "language_info": {
   "codemirror_mode": {
    "name": "ipython",
    "version": 3
   },
   "file_extension": ".py",
   "mimetype": "text/x-python",
   "name": "python",
   "nbconvert_exporter": "python",
   "pygments_lexer": "ipython3",
   "version": "3.7.2"
  }
 },
 "nbformat": 4,
 "nbformat_minor": 2
}
