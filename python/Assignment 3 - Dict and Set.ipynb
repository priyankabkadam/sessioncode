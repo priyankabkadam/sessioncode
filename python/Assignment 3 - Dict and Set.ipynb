{
 "cells": [
  {
   "cell_type": "code",
   "execution_count": null,
   "metadata": {},
   "outputs": [],
   "source": [
    "# 1.Write a program to count the number of occurrences of a word in below sentenses.\n",
    "# Input : \"Python has traditionally checked the up-to-dateness of bytecode cache files by comparing the source metadata with \n",
    "# source metadata saved in the cache file header when it was generated. While effective, \n",
    "# this invalidation method has its drawbacks. When filesystem timestamps are too coarse, Python can miss source updates, leading to user confusion. Additionally, having a timestamp in the cache file is problematic for build reproducibility and content-based build systems.\"\n",
    "# Output : {\"Python\":2,\"metadata\":2,... }"
   ]
  },
  {
   "cell_type": "code",
   "execution_count": 1,
   "metadata": {},
   "outputs": [],
   "source": [
    "Input : \"Python has traditionally checked the up-to-dateness of bytecode cache files by comparing the source metadata with source metadata saved in the cache file header when it was generated. While effective, this invalidation method has its drawbacks. When filesystem timestamps are too coarse, Python can miss source updates, leading to user confusion. Additionally, having a timestamp in the cache file is problematic for build reproducibility and content-based build systems.\""
   ]
  },
  {
   "cell_type": "code",
   "execution_count": null,
   "metadata": {},
   "outputs": [],
   "source": [
    "# 2.Given a dictionary that associates the names of states with a list of the names of cities that appear in it,write a program that creates a new dictionary that associates the name of a city with the list of states that it appears in.\n",
    "# As an example, if the first dictionary is\n",
    "# Input :\n",
    "# states = {'New Hampshire': ['Concord', 'Hanover'],\n",
    "# 'Massachusetts': ['Boston', 'Concord', 'Springfield'],\n",
    "\n",
    "# 'Illinois': ['Chicago', 'Springfield', 'Peoria']\n",
    "# }\n",
    "# Output:\n",
    "# cities = {'Hanover': ['New Hampshire'],\n",
    "# 'Chicago': ['Illinois'],'Boston': ['Massachusetts'], \n",
    "\n",
    "# 'Peoria': ['Illinois'],'Concord': ['New Hampshire','Massachusetts'],\n",
    "\n",
    "# 'Springfield': ['Massachusetts', 'Illinois']\n",
    "# }"
   ]
  },
  {
   "cell_type": "code",
   "execution_count": null,
   "metadata": {},
   "outputs": [],
   "source": []
  },
  {
   "cell_type": "code",
   "execution_count": null,
   "metadata": {},
   "outputs": [],
   "source": [
    "# 3.Given a list of test scores, where the maximum score is 100, write code that prints the number of scores that \n",
    "# are in the range 0-9, 10-19, 20-29, ... 80-89, 90-100. For example,\n",
    "# given the list of scores : [ 12, 90, 100, 52, 56, 76, 92, 83, 39, 77, 73, 70, 80 ]\n",
    "# The output should be :\n",
    "# {(0,9): 0, (10,19): 1, (20,29): 0, (30,39): 1, (40,49): 0, (50,59): 2, (60,69): 0, (70,79): 4, (80,89): 2, (90,100): 3}"
   ]
  },
  {
   "cell_type": "code",
   "execution_count": null,
   "metadata": {},
   "outputs": [],
   "source": []
  },
  {
   "cell_type": "code",
   "execution_count": null,
   "metadata": {},
   "outputs": [],
   "source": [
    "# 4.Consider a data, where the name of the restaurant, the type of restaurant, and the ratings are provided. \n",
    "# Assume these values have already been read into a list of lists of the form below:\n",
    "# restaurants = [ [ Acme, Italian, 2, 4, 3, 5],[ Flintstone, Steak, 5, 2, 4, 3, 3, 4],[ Bella Troy, Italian, 1, 4, 5] ]\n",
    "# Write a program code that prints all Italian restaurants in the restaurants list that have no ratings of value 1 and at least one rating of value 5.\n",
    "# In the above example, Acme would be printed in the output, but Flintstone and Bella Troy would not. \n",
    "# Flintstone is not Italian and Bella Troy has a 1 rating."
   ]
  },
  {
   "cell_type": "code",
   "execution_count": null,
   "metadata": {},
   "outputs": [],
   "source": []
  },
  {
   "cell_type": "code",
   "execution_count": null,
   "metadata": {},
   "outputs": [],
   "source": [
    "# 5.In the pre-smartphone era,each number key is assigned a subset of the alphabet {a,b,…,z}: 2 is assigned the subset {a,b,c}, \n",
    "# 3 is assigned {d,e,f}, 4 is assigned {g,h,i}, 5 is assigned {j,k,l}, 6 is assigned {m,n,o}, 7 is assigned {p,q,r,s}, \n",
    "# 8 is assigned {t,u,v} and 9 is assigned {w,x,y,z}.\n",
    "#Write a program to find the characters generated using key 9999335533 output should be \"zeke\""
   ]
  },
  {
   "cell_type": "code",
   "execution_count": null,
   "metadata": {},
   "outputs": [],
   "source": []
  },
  {
   "cell_type": "code",
   "execution_count": null,
   "metadata": {},
   "outputs": [],
   "source": [
    "6.Given a dictionary called clubs where each key is the name of a club (a string), and each value is \n",
    "the set of id strings for the students in the club. \n",
    "Write a segment of Python code that creates a set of all student ids that are in all the clubs in the dictionary"
   ]
  }
 ],
 "metadata": {
  "kernelspec": {
   "display_name": "Python 3",
   "language": "python",
   "name": "python3"
  },
  "language_info": {
   "codemirror_mode": {
    "name": "ipython",
    "version": 3
   },
   "file_extension": ".py",
   "mimetype": "text/x-python",
   "name": "python",
   "nbconvert_exporter": "python",
   "pygments_lexer": "ipython3",
   "version": "3.7.2"
  }
 },
 "nbformat": 4,
 "nbformat_minor": 2
}
